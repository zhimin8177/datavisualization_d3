{
 "cells": [
  {
   "attachments": {},
   "cell_type": "markdown",
   "id": "ddfb365e",
   "metadata": {},
   "source": [
    "# Bar Chart Data Generate"
   ]
  },
  {
   "cell_type": "code",
   "execution_count": 1,
   "id": "3cbb0524",
   "metadata": {},
   "outputs": [],
   "source": [
    "import pandas as pd"
   ]
  },
  {
   "cell_type": "code",
   "execution_count": 2,
   "id": "d9b61cb5",
   "metadata": {},
   "outputs": [],
   "source": [
    "chemistry = pd.read_csv(\"dataverse_files/Chemistry publication record.csv\",parse_dates=['Prize year','Pub year'])\n",
    "medicine = pd.read_csv(\"dataverse_files/Medicine publication record.csv\",parse_dates=['Prize year','Pub year'])\n",
    "physics = pd.read_csv(\"dataverse_files/Physics publication record.csv\",parse_dates=['Prize year','Pub year'])\n",
    "prize = pd.read_csv(\"dataverse_files/Prize-winning paper record.csv\",parse_dates=['Prize year','Pub year'])\n"
   ]
  },
  {
   "cell_type": "code",
   "execution_count": 3,
   "id": "c9bfc668",
   "metadata": {},
   "outputs": [],
   "source": [
    "def describeDF(df):\n",
    "    print(df.info())\n",
    "    print()\n",
    "    column = list(df.columns)\n",
    "    print()\n",
    "    print(\"dataframe shape: %s\"%str(df.shape))\n",
    "    print()\n",
    "    for i in column:\n",
    "        print(\"%s: \"%i)\n",
    "        try:\n",
    "#             print(df[i].unique())\n",
    "            print(\"unique %s count: \"%i + str(len(df[i].unique())))\n",
    "            print()\n",
    "        except:\n",
    "            print(\"exception\")"
   ]
  },
  {
   "cell_type": "code",
   "execution_count": 4,
   "id": "538de3c2",
   "metadata": {
    "scrolled": true
   },
   "outputs": [
    {
     "name": "stdout",
     "output_type": "stream",
     "text": [
      "<class 'pandas.core.frame.DataFrame'>\n",
      "RangeIndex: 42657 entries, 0 to 42656\n",
      "Data columns (total 10 columns):\n",
      " #   Column                  Non-Null Count  Dtype         \n",
      "---  ------                  --------------  -----         \n",
      " 0   Laureate ID             42657 non-null  int64         \n",
      " 1   Laureate name           42657 non-null  object        \n",
      " 2   Prize year              42657 non-null  datetime64[ns]\n",
      " 3   Title                   42657 non-null  object        \n",
      " 4   Pub year                42657 non-null  datetime64[ns]\n",
      " 5   Paper ID                42651 non-null  float64       \n",
      " 6   DOI                     42630 non-null  object        \n",
      " 7   Journal                 42303 non-null  object        \n",
      " 8   Affiliation             34691 non-null  object        \n",
      " 9   Is prize-winning paper  42657 non-null  object        \n",
      "dtypes: datetime64[ns](2), float64(1), int64(1), object(6)\n",
      "memory usage: 3.3+ MB\n",
      "None\n",
      "\n",
      "\n",
      "dataframe shape: (42657, 10)\n",
      "\n",
      "Laureate ID: \n",
      "unique Laureate ID count: 163\n",
      "\n",
      "Laureate name: \n",
      "unique Laureate name count: 161\n",
      "\n",
      "Prize year: \n",
      "unique Prize year count: 97\n",
      "\n",
      "Title: \n",
      "unique Title count: 41699\n",
      "\n",
      "Pub year: \n",
      "unique Pub year count: 128\n",
      "\n",
      "Paper ID: \n",
      "unique Paper ID count: 41966\n",
      "\n",
      "DOI: \n",
      "unique DOI count: 41947\n",
      "\n",
      "Journal: \n",
      "unique Journal count: 1456\n",
      "\n",
      "Affiliation: \n",
      "unique Affiliation count: 199\n",
      "\n",
      "Is prize-winning paper: \n",
      "unique Is prize-winning paper count: 2\n",
      "\n",
      "<class 'pandas.core.frame.DataFrame'>\n",
      "RangeIndex: 29233 entries, 0 to 29232\n",
      "Data columns (total 10 columns):\n",
      " #   Column                  Non-Null Count  Dtype         \n",
      "---  ------                  --------------  -----         \n",
      " 0   Laureate ID             29233 non-null  int64         \n",
      " 1   Laureate name           29233 non-null  object        \n",
      " 2   Prize year              29233 non-null  datetime64[ns]\n",
      " 3   Title                   29233 non-null  object        \n",
      " 4   Pub year                29233 non-null  datetime64[ns]\n",
      " 5   Paper ID                29224 non-null  float64       \n",
      " 6   DOI                     29118 non-null  object        \n",
      " 7   Journal                 28882 non-null  object        \n",
      " 8   Affiliation             22654 non-null  object        \n",
      " 9   Is prize-winning paper  29233 non-null  object        \n",
      "dtypes: datetime64[ns](2), float64(1), int64(1), object(6)\n",
      "memory usage: 2.2+ MB\n",
      "None\n",
      "\n",
      "\n",
      "dataframe shape: (29233, 10)\n",
      "\n",
      "Laureate ID: \n",
      "unique Laureate ID count: 189\n",
      "\n",
      "Laureate name: \n",
      "unique Laureate name count: 189\n",
      "\n",
      "Prize year: \n",
      "unique Prize year count: 91\n",
      "\n",
      "Title: \n",
      "unique Title count: 28053\n",
      "\n",
      "Pub year: \n",
      "unique Pub year count: 143\n",
      "\n",
      "Paper ID: \n",
      "unique Paper ID count: 28231\n",
      "\n",
      "DOI: \n",
      "unique DOI count: 28130\n",
      "\n",
      "Journal: \n",
      "unique Journal count: 1623\n",
      "\n",
      "Affiliation: \n",
      "unique Affiliation count: 265\n",
      "\n",
      "Is prize-winning paper: \n",
      "unique Is prize-winning paper count: 2\n",
      "\n",
      "<class 'pandas.core.frame.DataFrame'>\n",
      "RangeIndex: 21504 entries, 0 to 21503\n",
      "Data columns (total 10 columns):\n",
      " #   Column                  Non-Null Count  Dtype         \n",
      "---  ------                  --------------  -----         \n",
      " 0   Laureate ID             21504 non-null  int64         \n",
      " 1   Laureate name           21504 non-null  object        \n",
      " 2   Prize year              21504 non-null  datetime64[ns]\n",
      " 3   Title                   21503 non-null  object        \n",
      " 4   Pub year                21503 non-null  datetime64[ns]\n",
      " 5   Paper ID                21486 non-null  float64       \n",
      " 6   DOI                     21448 non-null  object        \n",
      " 7   Journal                 20979 non-null  object        \n",
      " 8   Affiliation             18535 non-null  object        \n",
      " 9   Is prize-winning paper  21504 non-null  object        \n",
      "dtypes: datetime64[ns](2), float64(1), int64(1), object(6)\n",
      "memory usage: 1.6+ MB\n",
      "None\n",
      "\n",
      "\n",
      "dataframe shape: (21504, 10)\n",
      "\n",
      "Laureate ID: \n",
      "unique Laureate ID count: 193\n",
      "\n",
      "Laureate name: \n",
      "unique Laureate name count: 193\n",
      "\n",
      "Prize year: \n",
      "unique Prize year count: 103\n",
      "\n",
      "Title: \n",
      "unique Title count: 19631\n",
      "\n",
      "Pub year: \n",
      "unique Pub year count: 134\n",
      "\n",
      "Paper ID: \n",
      "unique Paper ID count: 19869\n",
      "\n",
      "DOI: \n",
      "unique DOI count: 19827\n",
      "\n",
      "Journal: \n",
      "unique Journal count: 747\n",
      "\n",
      "Affiliation: \n",
      "unique Affiliation count: 162\n",
      "\n",
      "Is prize-winning paper: \n",
      "unique Is prize-winning paper count: 2\n",
      "\n",
      "<class 'pandas.core.frame.DataFrame'>\n",
      "RangeIndex: 874 entries, 0 to 873\n",
      "Data columns (total 8 columns):\n",
      " #   Column                  Non-Null Count  Dtype         \n",
      "---  ------                  --------------  -----         \n",
      " 0   Field                   874 non-null    object        \n",
      " 1   Laureate ID             874 non-null    int64         \n",
      " 2   Laureate name           874 non-null    object        \n",
      " 3   Prize year              874 non-null    datetime64[ns]\n",
      " 4   Title                   874 non-null    object        \n",
      " 5   Pub year                874 non-null    datetime64[ns]\n",
      " 6   Paper ID                841 non-null    float64       \n",
      " 7   Additional information  39 non-null     object        \n",
      "dtypes: datetime64[ns](2), float64(1), int64(1), object(4)\n",
      "memory usage: 54.8+ KB\n",
      "None\n",
      "\n",
      "\n",
      "dataframe shape: (874, 8)\n",
      "\n",
      "Field: \n",
      "unique Field count: 3\n",
      "\n",
      "Laureate ID: \n",
      "unique Laureate ID count: 545\n",
      "\n",
      "Laureate name: \n",
      "unique Laureate name count: 543\n",
      "\n",
      "Prize year: \n",
      "unique Prize year count: 107\n",
      "\n",
      "Title: \n",
      "unique Title count: 763\n",
      "\n",
      "Pub year: \n",
      "unique Pub year count: 112\n",
      "\n",
      "Paper ID: \n",
      "unique Paper ID count: 731\n",
      "\n",
      "Additional information: \n",
      "unique Additional information count: 10\n",
      "\n"
     ]
    }
   ],
   "source": [
    "\n",
    "describeDF(chemistry)\n",
    "describeDF(medicine)\n",
    "describeDF(physics)\n",
    "describeDF(prize)"
   ]
  },
  {
   "cell_type": "code",
   "execution_count": 5,
   "id": "0bc63360",
   "metadata": {},
   "outputs": [],
   "source": [
    "from collections import Counter"
   ]
  },
  {
   "cell_type": "code",
   "execution_count": 6,
   "id": "616e97c2",
   "metadata": {},
   "outputs": [
    {
     "name": "stdout",
     "output_type": "stream",
     "text": [
      "chemistry:Counter({'NO': 42398, 'YES': 259})\n",
      "medicine:Counter({'NO': 28901, 'YES': 332})\n",
      "physics:Counter({'NO': 21221, 'YES': 283})\n",
      "prize:Counter({'Medicine': 332, 'Physics': 283, 'Chemistry': 259})\n"
     ]
    }
   ],
   "source": [
    "chemistry\n",
    "print('chemistry:'+ str(Counter(chemistry['Is prize-winning paper'])))\n",
    "print('medicine:'+ str(Counter(medicine['Is prize-winning paper'])))\n",
    "print('physics:'+ str(Counter(physics['Is prize-winning paper'])))\n",
    "print('prize:'+ str(Counter(prize['Field'])))"
   ]
  },
  {
   "cell_type": "code",
   "execution_count": 7,
   "id": "18f18d52",
   "metadata": {},
   "outputs": [
    {
     "name": "stdout",
     "output_type": "stream",
     "text": [
      "0\n",
      "0\n",
      "0\n",
      "0\n"
     ]
    }
   ],
   "source": [
    "print(chemistry.duplicated().sum())\n",
    "print(medicine.duplicated().sum())\n",
    "print(physics.duplicated().sum())\n",
    "print(prize.duplicated().sum())"
   ]
  },
  {
   "cell_type": "code",
   "execution_count": 8,
   "id": "5eadd1b9",
   "metadata": {},
   "outputs": [
    {
     "data": {
      "text/html": [
       "<div>\n",
       "<style scoped>\n",
       "    .dataframe tbody tr th:only-of-type {\n",
       "        vertical-align: middle;\n",
       "    }\n",
       "\n",
       "    .dataframe tbody tr th {\n",
       "        vertical-align: top;\n",
       "    }\n",
       "\n",
       "    .dataframe thead th {\n",
       "        text-align: right;\n",
       "    }\n",
       "</style>\n",
       "<table border=\"1\" class=\"dataframe\">\n",
       "  <thead>\n",
       "    <tr style=\"text-align: right;\">\n",
       "      <th></th>\n",
       "      <th>Laureate ID</th>\n",
       "      <th>Laureate name</th>\n",
       "      <th>Prize year</th>\n",
       "      <th>Title</th>\n",
       "      <th>Pub year</th>\n",
       "      <th>Paper ID</th>\n",
       "      <th>DOI</th>\n",
       "      <th>Journal</th>\n",
       "      <th>Affiliation</th>\n",
       "      <th>Is prize-winning paper</th>\n",
       "    </tr>\n",
       "  </thead>\n",
       "  <tbody>\n",
       "    <tr>\n",
       "      <th>12168</th>\n",
       "      <td>20036</td>\n",
       "      <td>tanaka, k</td>\n",
       "      <td>2002-01-01</td>\n",
       "      <td>ft pulsed and cw epr studies of stable molecul...</td>\n",
       "      <td>1995-01-01</td>\n",
       "      <td>1.985996e+09</td>\n",
       "      <td>10.1080/10587259508034050</td>\n",
       "      <td>molecular crystals and liquid crystals</td>\n",
       "      <td>kansai university</td>\n",
       "      <td>NO</td>\n",
       "    </tr>\n",
       "    <tr>\n",
       "      <th>6319</th>\n",
       "      <td>20018</td>\n",
       "      <td>suzuki, a</td>\n",
       "      <td>2010-01-01</td>\n",
       "      <td>vinylic organoboranes 1 a convenient synthesis...</td>\n",
       "      <td>1986-01-01</td>\n",
       "      <td>2.014587e+09</td>\n",
       "      <td>10.1021/jo00374a002</td>\n",
       "      <td>journal of organic chemistry</td>\n",
       "      <td>kyushu university</td>\n",
       "      <td>NO</td>\n",
       "    </tr>\n",
       "    <tr>\n",
       "      <th>29272</th>\n",
       "      <td>20079</td>\n",
       "      <td>hoffmann, r</td>\n",
       "      <td>1981-01-01</td>\n",
       "      <td>one molecule two atoms three views four bonds</td>\n",
       "      <td>2013-01-01</td>\n",
       "      <td>2.127094e+09</td>\n",
       "      <td>10.1002/anie.201208206</td>\n",
       "      <td>angewandte chemie</td>\n",
       "      <td>cornell university</td>\n",
       "      <td>NO</td>\n",
       "    </tr>\n",
       "  </tbody>\n",
       "</table>\n",
       "</div>"
      ],
      "text/plain": [
       "       Laureate ID Laureate name Prize year  \\\n",
       "12168        20036     tanaka, k 2002-01-01   \n",
       "6319         20018     suzuki, a 2010-01-01   \n",
       "29272        20079   hoffmann, r 1981-01-01   \n",
       "\n",
       "                                                   Title   Pub year  \\\n",
       "12168  ft pulsed and cw epr studies of stable molecul... 1995-01-01   \n",
       "6319   vinylic organoboranes 1 a convenient synthesis... 1986-01-01   \n",
       "29272      one molecule two atoms three views four bonds 2013-01-01   \n",
       "\n",
       "           Paper ID                        DOI  \\\n",
       "12168  1.985996e+09  10.1080/10587259508034050   \n",
       "6319   2.014587e+09        10.1021/jo00374a002   \n",
       "29272  2.127094e+09     10.1002/anie.201208206   \n",
       "\n",
       "                                      Journal         Affiliation  \\\n",
       "12168  molecular crystals and liquid crystals   kansai university   \n",
       "6319             journal of organic chemistry   kyushu university   \n",
       "29272                       angewandte chemie  cornell university   \n",
       "\n",
       "      Is prize-winning paper  \n",
       "12168                     NO  \n",
       "6319                      NO  \n",
       "29272                     NO  "
      ]
     },
     "metadata": {},
     "output_type": "display_data"
    },
    {
     "data": {
      "text/html": [
       "<div>\n",
       "<style scoped>\n",
       "    .dataframe tbody tr th:only-of-type {\n",
       "        vertical-align: middle;\n",
       "    }\n",
       "\n",
       "    .dataframe tbody tr th {\n",
       "        vertical-align: top;\n",
       "    }\n",
       "\n",
       "    .dataframe thead th {\n",
       "        text-align: right;\n",
       "    }\n",
       "</style>\n",
       "<table border=\"1\" class=\"dataframe\">\n",
       "  <thead>\n",
       "    <tr style=\"text-align: right;\">\n",
       "      <th></th>\n",
       "      <th>Laureate ID</th>\n",
       "      <th>Laureate name</th>\n",
       "      <th>Prize year</th>\n",
       "      <th>Title</th>\n",
       "      <th>Pub year</th>\n",
       "      <th>Paper ID</th>\n",
       "      <th>DOI</th>\n",
       "      <th>Journal</th>\n",
       "      <th>Affiliation</th>\n",
       "      <th>Is prize-winning paper</th>\n",
       "    </tr>\n",
       "  </thead>\n",
       "  <tbody>\n",
       "    <tr>\n",
       "      <th>8278</th>\n",
       "      <td>30041</td>\n",
       "      <td>greengar.p</td>\n",
       "      <td>2000-01-01</td>\n",
       "      <td>antibodies to synaptophysin interfere with tra...</td>\n",
       "      <td>1992-01-01</td>\n",
       "      <td>1.985574e+09</td>\n",
       "      <td>10.1016/0896-6273(92)90038-F</td>\n",
       "      <td>neuron</td>\n",
       "      <td>rockefeller university</td>\n",
       "      <td>NO</td>\n",
       "    </tr>\n",
       "    <tr>\n",
       "      <th>19519</th>\n",
       "      <td>30091</td>\n",
       "      <td>schally, av</td>\n",
       "      <td>1977-01-01</td>\n",
       "      <td>a targeted cytotoxic somatostatin sst analogue...</td>\n",
       "      <td>2001-01-01</td>\n",
       "      <td>2.169378e+09</td>\n",
       "      <td>10.1016/S0959-8049(00)00437-8</td>\n",
       "      <td>european journal of cancer</td>\n",
       "      <td>tulane university</td>\n",
       "      <td>NO</td>\n",
       "    </tr>\n",
       "    <tr>\n",
       "      <th>10495</th>\n",
       "      <td>30047</td>\n",
       "      <td>prusiner, sb</td>\n",
       "      <td>1997-01-01</td>\n",
       "      <td>prion protein gene expression in cultured cells</td>\n",
       "      <td>1988-01-01</td>\n",
       "      <td>2.033833e+09</td>\n",
       "      <td>10.1093/protein/2.1.69</td>\n",
       "      <td>protein engineering</td>\n",
       "      <td>university of california san francisco</td>\n",
       "      <td>NO</td>\n",
       "    </tr>\n",
       "  </tbody>\n",
       "</table>\n",
       "</div>"
      ],
      "text/plain": [
       "       Laureate ID Laureate name Prize year  \\\n",
       "8278         30041    greengar.p 2000-01-01   \n",
       "19519        30091   schally, av 1977-01-01   \n",
       "10495        30047  prusiner, sb 1997-01-01   \n",
       "\n",
       "                                                   Title   Pub year  \\\n",
       "8278   antibodies to synaptophysin interfere with tra... 1992-01-01   \n",
       "19519  a targeted cytotoxic somatostatin sst analogue... 2001-01-01   \n",
       "10495    prion protein gene expression in cultured cells 1988-01-01   \n",
       "\n",
       "           Paper ID                            DOI  \\\n",
       "8278   1.985574e+09   10.1016/0896-6273(92)90038-F   \n",
       "19519  2.169378e+09  10.1016/S0959-8049(00)00437-8   \n",
       "10495  2.033833e+09         10.1093/protein/2.1.69   \n",
       "\n",
       "                          Journal                             Affiliation  \\\n",
       "8278                       neuron                  rockefeller university   \n",
       "19519  european journal of cancer                       tulane university   \n",
       "10495         protein engineering  university of california san francisco   \n",
       "\n",
       "      Is prize-winning paper  \n",
       "8278                      NO  \n",
       "19519                     NO  \n",
       "10495                     NO  "
      ]
     },
     "metadata": {},
     "output_type": "display_data"
    },
    {
     "data": {
      "text/html": [
       "<div>\n",
       "<style scoped>\n",
       "    .dataframe tbody tr th:only-of-type {\n",
       "        vertical-align: middle;\n",
       "    }\n",
       "\n",
       "    .dataframe tbody tr th {\n",
       "        vertical-align: top;\n",
       "    }\n",
       "\n",
       "    .dataframe thead th {\n",
       "        text-align: right;\n",
       "    }\n",
       "</style>\n",
       "<table border=\"1\" class=\"dataframe\">\n",
       "  <thead>\n",
       "    <tr style=\"text-align: right;\">\n",
       "      <th></th>\n",
       "      <th>Laureate ID</th>\n",
       "      <th>Laureate name</th>\n",
       "      <th>Prize year</th>\n",
       "      <th>Title</th>\n",
       "      <th>Pub year</th>\n",
       "      <th>Paper ID</th>\n",
       "      <th>DOI</th>\n",
       "      <th>Journal</th>\n",
       "      <th>Affiliation</th>\n",
       "      <th>Is prize-winning paper</th>\n",
       "    </tr>\n",
       "  </thead>\n",
       "  <tbody>\n",
       "    <tr>\n",
       "      <th>21221</th>\n",
       "      <td>10180</td>\n",
       "      <td>einstein, a</td>\n",
       "      <td>1921-01-01</td>\n",
       "      <td>a comment on a criticism of unified field theory</td>\n",
       "      <td>1953-01-01</td>\n",
       "      <td>1.971706e+09</td>\n",
       "      <td>10.1103/PhysRev.89.321</td>\n",
       "      <td>physical review</td>\n",
       "      <td>institute for advanced study</td>\n",
       "      <td>NO</td>\n",
       "    </tr>\n",
       "    <tr>\n",
       "      <th>621</th>\n",
       "      <td>10006</td>\n",
       "      <td>akasaki, isamu</td>\n",
       "      <td>2014-01-01</td>\n",
       "      <td>polarization of light from an optically pumped...</td>\n",
       "      <td>1994-01-01</td>\n",
       "      <td>1.963683e+09</td>\n",
       "      <td>10.1016/0921-5107(94)90174-0</td>\n",
       "      <td>materials science and engineering b advanced f...</td>\n",
       "      <td>meijo university</td>\n",
       "      <td>NO</td>\n",
       "    </tr>\n",
       "    <tr>\n",
       "      <th>11952</th>\n",
       "      <td>10070</td>\n",
       "      <td>paul, w</td>\n",
       "      <td>1989-01-01</td>\n",
       "      <td>das elektrische massenfilter als massenspektro...</td>\n",
       "      <td>1958-01-01</td>\n",
       "      <td>1.495574e+09</td>\n",
       "      <td>10.1007/BF01327353</td>\n",
       "      <td>european physical journal</td>\n",
       "      <td>university of bonn</td>\n",
       "      <td>NO</td>\n",
       "    </tr>\n",
       "  </tbody>\n",
       "</table>\n",
       "</div>"
      ],
      "text/plain": [
       "       Laureate ID   Laureate name Prize year  \\\n",
       "21221        10180     einstein, a 1921-01-01   \n",
       "621          10006  akasaki, isamu 2014-01-01   \n",
       "11952        10070         paul, w 1989-01-01   \n",
       "\n",
       "                                                   Title   Pub year  \\\n",
       "21221   a comment on a criticism of unified field theory 1953-01-01   \n",
       "621    polarization of light from an optically pumped... 1994-01-01   \n",
       "11952  das elektrische massenfilter als massenspektro... 1958-01-01   \n",
       "\n",
       "           Paper ID                           DOI  \\\n",
       "21221  1.971706e+09        10.1103/PhysRev.89.321   \n",
       "621    1.963683e+09  10.1016/0921-5107(94)90174-0   \n",
       "11952  1.495574e+09            10.1007/BF01327353   \n",
       "\n",
       "                                                 Journal  \\\n",
       "21221                                    physical review   \n",
       "621    materials science and engineering b advanced f...   \n",
       "11952                          european physical journal   \n",
       "\n",
       "                        Affiliation Is prize-winning paper  \n",
       "21221  institute for advanced study                     NO  \n",
       "621                meijo university                     NO  \n",
       "11952            university of bonn                     NO  "
      ]
     },
     "metadata": {},
     "output_type": "display_data"
    },
    {
     "data": {
      "text/html": [
       "<div>\n",
       "<style scoped>\n",
       "    .dataframe tbody tr th:only-of-type {\n",
       "        vertical-align: middle;\n",
       "    }\n",
       "\n",
       "    .dataframe tbody tr th {\n",
       "        vertical-align: top;\n",
       "    }\n",
       "\n",
       "    .dataframe thead th {\n",
       "        text-align: right;\n",
       "    }\n",
       "</style>\n",
       "<table border=\"1\" class=\"dataframe\">\n",
       "  <thead>\n",
       "    <tr style=\"text-align: right;\">\n",
       "      <th></th>\n",
       "      <th>Field</th>\n",
       "      <th>Laureate ID</th>\n",
       "      <th>Laureate name</th>\n",
       "      <th>Prize year</th>\n",
       "      <th>Title</th>\n",
       "      <th>Pub year</th>\n",
       "      <th>Paper ID</th>\n",
       "      <th>Additional information</th>\n",
       "    </tr>\n",
       "  </thead>\n",
       "  <tbody>\n",
       "    <tr>\n",
       "      <th>322</th>\n",
       "      <td>Chemistry</td>\n",
       "      <td>20023</td>\n",
       "      <td>tsien, r</td>\n",
       "      <td>2008-01-01</td>\n",
       "      <td>crystal structure of the aequorea victoria gre...</td>\n",
       "      <td>1996-01-01</td>\n",
       "      <td>2.161997e+09</td>\n",
       "      <td>NaN</td>\n",
       "    </tr>\n",
       "    <tr>\n",
       "      <th>252</th>\n",
       "      <td>Physics</td>\n",
       "      <td>10175</td>\n",
       "      <td>gustav hertz</td>\n",
       "      <td>1925-01-01</td>\n",
       "      <td>the kinetics of electrons and ions in gases</td>\n",
       "      <td>1916-01-01</td>\n",
       "      <td>NaN</td>\n",
       "      <td>After the publication of Niels Bohr's theory o...</td>\n",
       "    </tr>\n",
       "    <tr>\n",
       "      <th>538</th>\n",
       "      <td>Chemistry</td>\n",
       "      <td>20161</td>\n",
       "      <td>richards, t</td>\n",
       "      <td>1914-01-01</td>\n",
       "      <td>a revision of the atomic weights of sodium and...</td>\n",
       "      <td>1905-01-01</td>\n",
       "      <td>2.077742e+09</td>\n",
       "      <td>NaN</td>\n",
       "    </tr>\n",
       "  </tbody>\n",
       "</table>\n",
       "</div>"
      ],
      "text/plain": [
       "         Field  Laureate ID Laureate name Prize year  \\\n",
       "322  Chemistry        20023      tsien, r 2008-01-01   \n",
       "252    Physics        10175  gustav hertz 1925-01-01   \n",
       "538  Chemistry        20161   richards, t 1914-01-01   \n",
       "\n",
       "                                                 Title   Pub year  \\\n",
       "322  crystal structure of the aequorea victoria gre... 1996-01-01   \n",
       "252        the kinetics of electrons and ions in gases 1916-01-01   \n",
       "538  a revision of the atomic weights of sodium and... 1905-01-01   \n",
       "\n",
       "         Paper ID                             Additional information  \n",
       "322  2.161997e+09                                                NaN  \n",
       "252           NaN  After the publication of Niels Bohr's theory o...  \n",
       "538  2.077742e+09                                                NaN  "
      ]
     },
     "metadata": {},
     "output_type": "display_data"
    }
   ],
   "source": [
    "display(chemistry.sample(3))\n",
    "display(medicine.sample(3))\n",
    "display(physics.sample(3))\n",
    "display(prize.sample(3))"
   ]
  },
  {
   "cell_type": "code",
   "execution_count": 9,
   "id": "674b731f",
   "metadata": {},
   "outputs": [],
   "source": [
    "chemistry['subject'] = \"chemistry\"\n",
    "medicine['subject'] = \"medicine\"\n",
    "physics['subject'] = \"physics\""
   ]
  },
  {
   "cell_type": "code",
   "execution_count": null,
   "id": "8cc31a4d",
   "metadata": {},
   "outputs": [],
   "source": [
    "fulldata = pd.concat([chemistry,medicine,physics])"
   ]
  },
  {
   "cell_type": "code",
   "execution_count": null,
   "id": "4749a546",
   "metadata": {},
   "outputs": [],
   "source": [
    "chemistry['Prize year'] = chemistry['Prize year'].dt.year\n",
    "chemistry['Pub year'] = chemistry['Pub year'].dt.year\n",
    "medicine['Prize year'] = medicine['Prize year'].dt.year\n",
    "medicine['Pub year'] = medicine['Pub year'].dt.year\n",
    "physics['Prize year'] = physics['Prize year'].dt.year\n",
    "physics['Pub year'] = physics['Pub year'].dt.year\n",
    "prize['Prize year'] = prize['Prize year'].dt.year\n",
    "prize['Pub year'] = prize['Pub year'].dt.year\n",
    "fulldata['Prize year'] = fulldata['Prize year'].dt.year\n",
    "fulldata['Pub year'] = fulldata['Pub year'].dt.year"
   ]
  },
  {
   "cell_type": "code",
   "execution_count": null,
   "id": "a89afb13",
   "metadata": {},
   "outputs": [],
   "source": [
    "prize['prize_pub_year'] = prize['Prize year'] - prize['Pub year']"
   ]
  },
  {
   "cell_type": "code",
   "execution_count": null,
   "id": "01d8f24e",
   "metadata": {},
   "outputs": [],
   "source": [
    "prize['prize_pub_year'].describe()"
   ]
  },
  {
   "cell_type": "code",
   "execution_count": null,
   "id": "43d00814",
   "metadata": {},
   "outputs": [],
   "source": [
    "prize.sort_values('prize_pub_year',ascending=True)[:3]['Title'].to_list()"
   ]
  },
  {
   "cell_type": "code",
   "execution_count": null,
   "id": "bb3be543",
   "metadata": {},
   "outputs": [],
   "source": [
    "prize.sort_values('prize_pub_year',ascending=True)[:3]"
   ]
  },
  {
   "cell_type": "code",
   "execution_count": null,
   "id": "21df786d",
   "metadata": {},
   "outputs": [],
   "source": [
    "prize.loc[prize['Title']=='xxxvii on the constitution of atoms and molecules','Pub year'] = 1913\n",
    "prize.loc[prize['Title']==\"Wien's displacement law\",'Pub year'] = 1893\n",
    "prize.loc[prize['Title']==\"researches with the dropping mercury cathode part ii the polarograph\",'Pub year'] = 1923"
   ]
  },
  {
   "cell_type": "code",
   "execution_count": null,
   "id": "c6d11724",
   "metadata": {},
   "outputs": [],
   "source": [
    "#重新计算正确的\n",
    "prize['prize_pub_year'] = prize['Prize year'] - prize['Pub year']\n"
   ]
  },
  {
   "cell_type": "code",
   "execution_count": null,
   "id": "358ac4a3",
   "metadata": {
    "scrolled": false
   },
   "outputs": [],
   "source": [
    "prize_pub_year_field = prize.groupby(['Field','prize_pub_year']).nunique().Title.to_frame().reset_index().rename(columns={'Title':'paper_count'})"
   ]
  },
  {
   "cell_type": "code",
   "execution_count": null,
   "id": "8bdf769d",
   "metadata": {},
   "outputs": [],
   "source": [
    "prize_pub_year_field"
   ]
  },
  {
   "cell_type": "code",
   "execution_count": null,
   "id": "012319af",
   "metadata": {},
   "outputs": [],
   "source": [
    "prize_pub_year_all = prize.groupby(['prize_pub_year']).nunique().Title.to_frame().reset_index().rename(columns={'Title':'paper_count'})\n"
   ]
  },
  {
   "cell_type": "code",
   "execution_count": null,
   "id": "b872b03e",
   "metadata": {},
   "outputs": [],
   "source": [
    "prize_pub_year_all"
   ]
  },
  {
   "cell_type": "code",
   "execution_count": null,
   "id": "e9d8c52c",
   "metadata": {},
   "outputs": [],
   "source": [
    "prize_pub_year_all.to_csv(\"prize_pub_year_all.csv\",index=False)"
   ]
  },
  {
   "attachments": {},
   "cell_type": "markdown",
   "id": "8b679efd",
   "metadata": {},
   "source": [
    "# Affliation Laureate Count"
   ]
  },
  {
   "cell_type": "code",
   "execution_count": null,
   "id": "c0af9657",
   "metadata": {},
   "outputs": [],
   "source": [
    "author_affiliation = fulldata.groupby([\"Laureate ID\",\"Affiliation\"]).count().reset_index()[['Laureate ID','Affiliation']]"
   ]
  },
  {
   "cell_type": "code",
   "execution_count": null,
   "id": "9b131b07",
   "metadata": {},
   "outputs": [],
   "source": [
    "author_affiliation"
   ]
  },
  {
   "cell_type": "code",
   "execution_count": null,
   "id": "9fa05663",
   "metadata": {},
   "outputs": [],
   "source": [
    "from collections import Counter"
   ]
  },
  {
   "cell_type": "code",
   "execution_count": null,
   "id": "1b7473b6",
   "metadata": {},
   "outputs": [],
   "source": [
    "author_affiliation_count = Counter(author_affiliation['Affiliation'])\n"
   ]
  },
  {
   "cell_type": "code",
   "execution_count": null,
   "id": "f93b8a64",
   "metadata": {},
   "outputs": [],
   "source": [
    "university_10 = pd.DataFrame(author_affiliation_count.most_common()[:10], columns=['University', 'Count'])"
   ]
  },
  {
   "attachments": {},
   "cell_type": "markdown",
   "id": "5782da33",
   "metadata": {},
   "source": [
    "# Chord Data Generate\n"
   ]
  },
  {
   "cell_type": "code",
   "execution_count": null,
   "id": "aff8bd00",
   "metadata": {},
   "outputs": [],
   "source": [
    "fulldata"
   ]
  },
  {
   "cell_type": "code",
   "execution_count": null,
   "id": "2f434eff",
   "metadata": {},
   "outputs": [],
   "source": [
    "fulldata[fulldata['Is prize-winning paper']=='YES']"
   ]
  },
  {
   "cell_type": "code",
   "execution_count": null,
   "id": "a41fc896",
   "metadata": {},
   "outputs": [],
   "source": [
    "uni_list = university_10['University'].to_list()"
   ]
  },
  {
   "cell_type": "code",
   "execution_count": null,
   "id": "b4cd34ce",
   "metadata": {},
   "outputs": [],
   "source": [
    "laureate_10 = fulldata[fulldata['Affiliation'].isin(uni_list)].fillna(0).reset_index().drop('index',axis=1)"
   ]
  },
  {
   "cell_type": "code",
   "execution_count": null,
   "id": "19cea4b6",
   "metadata": {},
   "outputs": [],
   "source": [
    "#10间机构里面的所有诺贝尔得主\n",
    "laureate_10 = laureate_10.drop_duplicates(subset='Laureate ID',keep='first')\n"
   ]
  },
  {
   "cell_type": "code",
   "execution_count": null,
   "id": "5a8aaadf",
   "metadata": {},
   "outputs": [],
   "source": [
    "pivot_table = pd.pivot_table(laureate_10, \n",
    "                             values='Laureate ID', \n",
    "                             index='Affiliation', \n",
    "                             columns='subject', \n",
    "                             aggfunc='nunique',\n",
    "                             fill_value=0)\n"
   ]
  },
  {
   "cell_type": "code",
   "execution_count": null,
   "id": "2405ca33",
   "metadata": {},
   "outputs": [],
   "source": [
    "pivot_table.sum()"
   ]
  },
  {
   "cell_type": "code",
   "execution_count": null,
   "id": "60844a8e",
   "metadata": {},
   "outputs": [],
   "source": [
    "import copy\n",
    "# order = copy.deepcopy(uni_list)\n",
    "# order.append('chemistry')\n",
    "# order.append('medicine')\n",
    "# order.append('physics')\n",
    "\n",
    "order = copy.deepcopy(uni_list)\n",
    "order.insert(0,'chemistry')\n",
    "order.insert(0,'medicine')\n",
    "order.insert(0,'physics')\n"
   ]
  },
  {
   "cell_type": "code",
   "execution_count": null,
   "id": "dc811cc4",
   "metadata": {},
   "outputs": [],
   "source": [
    "order\n",
    "order=['medicine',\n",
    "     'physics',\n",
    "     'chemistry',\n",
    "       'princeton university',\n",
    "        'yale university',\n",
    "        'national institutes of health',\n",
    "        'rockefeller university',\n",
    "       'max planck society',\n",
    "        'university of california berkeley',\n",
    "       'california institute of technology',\n",
    "        'stanford university',\n",
    "       'university of cambridge',\n",
    " 'harvard university' ]"
   ]
  },
  {
   "cell_type": "code",
   "execution_count": null,
   "id": "d712123f",
   "metadata": {},
   "outputs": [],
   "source": [
    "order"
   ]
  },
  {
   "cell_type": "code",
   "execution_count": null,
   "id": "bc301490",
   "metadata": {},
   "outputs": [],
   "source": [
    "new_df = pivot_table.reindex(columns=order, index=order).fillna(0)"
   ]
  },
  {
   "cell_type": "code",
   "execution_count": null,
   "id": "b9843c7d",
   "metadata": {},
   "outputs": [],
   "source": [
    "new_df"
   ]
  },
  {
   "cell_type": "code",
   "execution_count": null,
   "id": "708b9d6b",
   "metadata": {
    "scrolled": false
   },
   "outputs": [],
   "source": [
    "new_df.values.tolist()"
   ]
  },
  {
   "cell_type": "code",
   "execution_count": null,
   "id": "d7bf6f73",
   "metadata": {
    "scrolled": false
   },
   "outputs": [],
   "source": [
    "#弦图数据\n",
    "test = new_df.T\n",
    "symmetric_matrix = new_df + test\n",
    "symmetric_matrix.values.tolist()"
   ]
  }
 ],
 "metadata": {
  "kernelspec": {
   "display_name": "deft_VE",
   "language": "python",
   "name": "python3"
  },
  "language_info": {
   "codemirror_mode": {
    "name": "ipython",
    "version": 3
   },
   "file_extension": ".py",
   "mimetype": "text/x-python",
   "name": "python",
   "nbconvert_exporter": "python",
   "pygments_lexer": "ipython3",
   "version": "3.8.10"
  }
 },
 "nbformat": 4,
 "nbformat_minor": 5
}
